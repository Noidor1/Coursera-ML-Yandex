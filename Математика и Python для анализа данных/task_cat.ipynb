{
 "cells": [
  {
   "cell_type": "markdown",
   "metadata": {},
   "source": [
    "# Линейная алгебра: сходство текстов и аппроксимация функций\n",
    "В этом задании вы познакомитесь с некоторыми базовыми методами из линейной алгебры, реализованными в пакете SciPy — в частности, с методами подсчета косинусного расстояния и решения систем линейных уравнений. Обе эти задачи еще много раз встретятся нам в специализации. Так, на решении систем линейных уравнений основана настройка линейных моделей — очень большого и важного класса алгоритмов машинного обучения. Косинусное расстояние же часто используется в анализе текстов для измерения сходства между ними."
   ]
  },
  {
   "cell_type": "markdown",
   "metadata": {},
   "source": [
    "## Задание\n",
    "Дан набор предложений, скопированных с Википедии. Каждое из них имеет \"кошачью тему\" в одном из трех смыслов:\n",
    "\n",
    "    *кошки (животные)\n",
    "    *UNIX-утилита cat для вывода содержимого файлов\n",
    "    *версии операционной системы OS X, названные в честь семейства кошачьих\n",
    "\n",
    "Ваша задача — найти два предложения, которые ближе всего по смыслу к расположенному в самой первой строке. В качестве меры близости по смыслу мы будем использовать косинусное расстояние."
   ]
  },
  {
   "cell_type": "code",
   "execution_count": 1,
   "metadata": {},
   "outputs": [],
   "source": [
    "import numpy as np\n",
    "from scipy.spatial.distance import cosine"
   ]
  },
  {
   "cell_type": "code",
   "execution_count": 2,
   "metadata": {},
   "outputs": [],
   "source": [
    "def main():\n",
    "    with open('cat.txt', 'r') as f:\n",
    "        lines = []\n",
    "        for line in f:\n",
    "            lines.append(line.lower())\n",
    "\n",
    "        tokens = {}\n",
    "        for sentence in lines:\n",
    "            for word in sentence.split():\n",
    "                cleaned_word = word.strip('.,''!-*<\"\">()/\\\\')\n",
    "                tokens[cleaned_word] = 0\n",
    "\n",
    "        del tokens['']\n",
    "        lc = 0\n",
    "        for token in tokens:\n",
    "            tokens[token] = lc\n",
    "            lc += 1\n",
    "\n",
    "        a = np.zeros((len(lines), len(tokens)))\n",
    "        for i in range(len(lines)):\n",
    "            for token in tokens:\n",
    "                j = tokens[token]\n",
    "                word_map = {}\n",
    "                for word in lines[i].split():\n",
    "                    cleaned_word_ = word.strip('.,''!-*<\"\">()/\\\\')\n",
    "                    if cleaned_word_ not in word_map:\n",
    "                        word_map[cleaned_word_] = 0\n",
    "                    word_map[cleaned_word_] += 1\n",
    "\n",
    "                if token in word_map:\n",
    "                    a[i, j] = word_map[token]\n",
    "            #print('line {} = {}'.format(i+1, a[i]))\n",
    "          \n",
    "        distance = {}\n",
    "        for i in range(1, len(lines)):\n",
    "            print(i+1, cosine(a[0], a[i]))\n",
    "            distance[i] = cosine(a[0], a[i])\n",
    "        \n",
    "        \n",
    "\n",
    "        import operator\n",
    "\n",
    "        distance_items = distance.items()\n",
    "        distance_cos_items = sorted(\n",
    "            distance_items, key=operator.itemgetter(1))\n",
    "        print(distance_cos_items[:2])"
   ]
  },
  {
   "cell_type": "code",
   "execution_count": 3,
   "metadata": {},
   "outputs": [
    {
     "name": "stdout",
     "output_type": "stream",
     "text": [
      "2 0.9527544408738466\n",
      "3 0.8644738145642124\n",
      "4 0.8951715163278082\n",
      "5 0.7770887149698589\n",
      "6 0.9430197117701811\n",
      "7 0.7518541665072674\n",
      "8 0.9258750683338899\n",
      "9 0.8842724875284311\n",
      "10 0.9512049963525734\n",
      "11 0.8328165362273942\n",
      "12 0.8804771390665607\n",
      "13 0.8396432548525454\n",
      "14 0.8804771390665607\n",
      "15 0.8773721321030068\n",
      "16 0.9454455274410019\n",
      "17 0.8288158029956348\n",
      "18 0.9572039507489087\n",
      "19 0.9442721787424647\n",
      "20 0.8885443574849294\n",
      "21 0.8396432548525454\n",
      "22 0.8250364469440588\n",
      "[(6, 0.7518541665072674), (4, 0.7770887149698589)]\n"
     ]
    }
   ],
   "source": [
    "if __name__ == \"__main__\":\n",
    "    main()"
   ]
  }
 ],
 "metadata": {
  "kernelspec": {
   "display_name": "Python 3",
   "language": "python",
   "name": "python3"
  },
  "language_info": {
   "codemirror_mode": {
    "name": "ipython",
    "version": 3
   },
   "file_extension": ".py",
   "mimetype": "text/x-python",
   "name": "python",
   "nbconvert_exporter": "python",
   "pygments_lexer": "ipython3",
   "version": "3.8.5"
  }
 },
 "nbformat": 4,
 "nbformat_minor": 4
}
