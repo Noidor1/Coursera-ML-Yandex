{
 "cells": [
  {
   "cell_type": "code",
   "execution_count": 16,
   "metadata": {},
   "outputs": [],
   "source": [
    "from sklearn import model_selection, datasets, metrics, naive_bayes"
   ]
  },
  {
   "cell_type": "code",
   "execution_count": 3,
   "metadata": {},
   "outputs": [],
   "source": [
    "data_digits = datasets.load_digits()\n",
    "data_breast_cancer = datasets.load_breast_cancer()"
   ]
  },
  {
   "cell_type": "code",
   "execution_count": 5,
   "metadata": {},
   "outputs": [
    {
     "data": {
      "text/plain": [
       "dict_keys(['data', 'target', 'frame', 'feature_names', 'target_names', 'images', 'DESCR'])"
      ]
     },
     "execution_count": 5,
     "metadata": {},
     "output_type": "execute_result"
    }
   ],
   "source": [
    "data_digits.keys()"
   ]
  },
  {
   "cell_type": "code",
   "execution_count": 8,
   "metadata": {},
   "outputs": [
    {
     "data": {
      "text/plain": [
       "dict_keys(['data', 'target', 'frame', 'target_names', 'DESCR', 'feature_names', 'filename'])"
      ]
     },
     "execution_count": 8,
     "metadata": {},
     "output_type": "execute_result"
    }
   ],
   "source": [
    "data_breast_cancer.keys()"
   ]
  },
  {
   "cell_type": "markdown",
   "metadata": {},
   "source": [
    "BernoulliNB, MultinomialNB и GaussianNB."
   ]
  },
  {
   "cell_type": "code",
   "execution_count": 21,
   "metadata": {},
   "outputs": [
    {
     "name": "stdout",
     "output_type": "stream",
     "text": [
      "Data_digits\n",
      "BernoulliNB: 0.8241736304549674\n",
      "MultinomialNB: 0.8703497369235531\n",
      "GaussianNB: 0.8069281956050759\n"
     ]
    }
   ],
   "source": [
    "print('Data_digits')\n",
    "print(f'BernoulliNB: {model_selection.cross_val_score(naive_bayes.BernoulliNB(), data_digits.data,data_digits.target).mean()}')\n",
    "print(f'MultinomialNB: {model_selection.cross_val_score(naive_bayes.MultinomialNB(), data_digits.data,data_digits.target).mean()}')\n",
    "print(f'GaussianNB: {model_selection.cross_val_score(naive_bayes.GaussianNB(), data_digits.data,data_digits.target).mean()}')"
   ]
  },
  {
   "cell_type": "code",
   "execution_count": 22,
   "metadata": {},
   "outputs": [
    {
     "name": "stdout",
     "output_type": "stream",
     "text": [
      "Data_breast_cancer:\n",
      "BernoulliNB: 0.6274181027790716\n",
      "MultinomialNB: 0.8963204471355379\n",
      "GaussianNB: 0.9385188635305075\n"
     ]
    }
   ],
   "source": [
    "print('Data_breast_cancer:')\n",
    "print(f'BernoulliNB: {model_selection.cross_val_score(naive_bayes.BernoulliNB(), data_breast_cancer.data,data_breast_cancer.target).mean()}')\n",
    "print(f'MultinomialNB: {model_selection.cross_val_score(naive_bayes.MultinomialNB(), data_breast_cancer.data,data_breast_cancer.target).mean()}')\n",
    "print(f'GaussianNB: {model_selection.cross_val_score(naive_bayes.GaussianNB(), data_breast_cancer.data,data_breast_cancer.target).mean()}')"
   ]
  },
  {
   "cell_type": "code",
   "execution_count": 29,
   "metadata": {},
   "outputs": [
    {
     "data": {
      "text/plain": [
       "array([[ 0.,  0.,  5., 13.,  9.],\n",
       "       [ 0.,  0.,  0., 12., 13.],\n",
       "       [ 0.,  0.,  0.,  4., 15.],\n",
       "       [ 0.,  0.,  7., 15., 13.],\n",
       "       [ 0.,  0.,  0.,  1., 11.]])"
      ]
     },
     "execution_count": 29,
     "metadata": {},
     "output_type": "execute_result"
    }
   ],
   "source": [
    "data_digits.data[:5,:5]"
   ]
  },
  {
   "cell_type": "code",
   "execution_count": 30,
   "metadata": {},
   "outputs": [
    {
     "data": {
      "text/plain": [
       "array([[1.799e+01, 1.038e+01, 1.228e+02, 1.001e+03, 1.184e-01],\n",
       "       [2.057e+01, 1.777e+01, 1.329e+02, 1.326e+03, 8.474e-02],\n",
       "       [1.969e+01, 2.125e+01, 1.300e+02, 1.203e+03, 1.096e-01],\n",
       "       [1.142e+01, 2.038e+01, 7.758e+01, 3.861e+02, 1.425e-01],\n",
       "       [2.029e+01, 1.434e+01, 1.351e+02, 1.297e+03, 1.003e-01]])"
      ]
     },
     "execution_count": 30,
     "metadata": {},
     "output_type": "execute_result"
    }
   ],
   "source": [
    "data_breast_cancer.data[:5,:5]"
   ]
  },
  {
   "cell_type": "code",
   "execution_count": null,
   "metadata": {},
   "outputs": [],
   "source": []
  }
 ],
 "metadata": {
  "kernelspec": {
   "display_name": "Python 3",
   "language": "python",
   "name": "python3"
  },
  "language_info": {
   "codemirror_mode": {
    "name": "ipython",
    "version": 3
   },
   "file_extension": ".py",
   "mimetype": "text/x-python",
   "name": "python",
   "nbconvert_exporter": "python",
   "pygments_lexer": "ipython3",
   "version": "3.8.5"
  }
 },
 "nbformat": 4,
 "nbformat_minor": 4
}
